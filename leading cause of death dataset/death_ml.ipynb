{
 "cells": [
  {
   "cell_type": "code",
   "execution_count": 1,
   "metadata": {},
   "outputs": [],
   "source": [
    "import pandas as pd\n",
    "import numpy as np\n",
    "import matplotlib.pyplot as plt\n",
    "import seaborn as sns"
   ]
  },
  {
   "cell_type": "code",
   "execution_count": 2,
   "metadata": {},
   "outputs": [],
   "source": [
    "from pathlib import Path\n",
    "\n",
    "IMAGES_PATH = Path() / \"images\" / \"cause of death\"\n",
    "IMAGES_PATH.mkdir(parents=True, exist_ok=True)\n",
    "\n",
    "def save_fig(fig_id, tight_layout=True, fig_extension=\"png\", resolution=300):\n",
    "    path = IMAGES_PATH / f\"{fig_id}.{fig_extension}\"\n",
    "    if tight_layout:\n",
    "        plt.tight_layout()\n",
    "    plt.savefig(path, format=fig_extension, dpi=resolution)"
   ]
  },
  {
   "cell_type": "code",
   "execution_count": 50,
   "metadata": {},
   "outputs": [
    {
     "data": {
      "text/html": [
       "<div>\n",
       "<style scoped>\n",
       "    .dataframe tbody tr th:only-of-type {\n",
       "        vertical-align: middle;\n",
       "    }\n",
       "\n",
       "    .dataframe tbody tr th {\n",
       "        vertical-align: top;\n",
       "    }\n",
       "\n",
       "    .dataframe thead th {\n",
       "        text-align: right;\n",
       "    }\n",
       "</style>\n",
       "<table border=\"1\" class=\"dataframe\">\n",
       "  <thead>\n",
       "    <tr style=\"text-align: right;\">\n",
       "      <th></th>\n",
       "      <th>Year</th>\n",
       "      <th>113 Cause Name</th>\n",
       "      <th>Cause Name</th>\n",
       "      <th>State</th>\n",
       "      <th>Deaths</th>\n",
       "      <th>Age-adjusted Death Rate</th>\n",
       "    </tr>\n",
       "  </thead>\n",
       "  <tbody>\n",
       "    <tr>\n",
       "      <th>0</th>\n",
       "      <td>2017</td>\n",
       "      <td>Accidents (unintentional injuries) (V01-X59,Y8...</td>\n",
       "      <td>Unintentional injuries</td>\n",
       "      <td>United States</td>\n",
       "      <td>169936</td>\n",
       "      <td>49.4</td>\n",
       "    </tr>\n",
       "    <tr>\n",
       "      <th>1</th>\n",
       "      <td>2017</td>\n",
       "      <td>Accidents (unintentional injuries) (V01-X59,Y8...</td>\n",
       "      <td>Unintentional injuries</td>\n",
       "      <td>Alabama</td>\n",
       "      <td>2703</td>\n",
       "      <td>53.8</td>\n",
       "    </tr>\n",
       "    <tr>\n",
       "      <th>2</th>\n",
       "      <td>2017</td>\n",
       "      <td>Accidents (unintentional injuries) (V01-X59,Y8...</td>\n",
       "      <td>Unintentional injuries</td>\n",
       "      <td>Alaska</td>\n",
       "      <td>436</td>\n",
       "      <td>63.7</td>\n",
       "    </tr>\n",
       "    <tr>\n",
       "      <th>3</th>\n",
       "      <td>2017</td>\n",
       "      <td>Accidents (unintentional injuries) (V01-X59,Y8...</td>\n",
       "      <td>Unintentional injuries</td>\n",
       "      <td>Arizona</td>\n",
       "      <td>4184</td>\n",
       "      <td>56.2</td>\n",
       "    </tr>\n",
       "    <tr>\n",
       "      <th>4</th>\n",
       "      <td>2017</td>\n",
       "      <td>Accidents (unintentional injuries) (V01-X59,Y8...</td>\n",
       "      <td>Unintentional injuries</td>\n",
       "      <td>Arkansas</td>\n",
       "      <td>1625</td>\n",
       "      <td>51.8</td>\n",
       "    </tr>\n",
       "    <tr>\n",
       "      <th>...</th>\n",
       "      <td>...</td>\n",
       "      <td>...</td>\n",
       "      <td>...</td>\n",
       "      <td>...</td>\n",
       "      <td>...</td>\n",
       "      <td>...</td>\n",
       "    </tr>\n",
       "    <tr>\n",
       "      <th>10863</th>\n",
       "      <td>1999</td>\n",
       "      <td>Nephritis, nephrotic syndrome and nephrosis (N...</td>\n",
       "      <td>Kidney disease</td>\n",
       "      <td>Virginia</td>\n",
       "      <td>1035</td>\n",
       "      <td>16.9</td>\n",
       "    </tr>\n",
       "    <tr>\n",
       "      <th>10864</th>\n",
       "      <td>1999</td>\n",
       "      <td>Nephritis, nephrotic syndrome and nephrosis (N...</td>\n",
       "      <td>Kidney disease</td>\n",
       "      <td>Washington</td>\n",
       "      <td>278</td>\n",
       "      <td>5.2</td>\n",
       "    </tr>\n",
       "    <tr>\n",
       "      <th>10865</th>\n",
       "      <td>1999</td>\n",
       "      <td>Nephritis, nephrotic syndrome and nephrosis (N...</td>\n",
       "      <td>Kidney disease</td>\n",
       "      <td>West Virginia</td>\n",
       "      <td>345</td>\n",
       "      <td>16.4</td>\n",
       "    </tr>\n",
       "    <tr>\n",
       "      <th>10866</th>\n",
       "      <td>1999</td>\n",
       "      <td>Nephritis, nephrotic syndrome and nephrosis (N...</td>\n",
       "      <td>Kidney disease</td>\n",
       "      <td>Wisconsin</td>\n",
       "      <td>677</td>\n",
       "      <td>11.9</td>\n",
       "    </tr>\n",
       "    <tr>\n",
       "      <th>10867</th>\n",
       "      <td>1999</td>\n",
       "      <td>Nephritis, nephrotic syndrome and nephrosis (N...</td>\n",
       "      <td>Kidney disease</td>\n",
       "      <td>Wyoming</td>\n",
       "      <td>30</td>\n",
       "      <td>6.8</td>\n",
       "    </tr>\n",
       "  </tbody>\n",
       "</table>\n",
       "<p>10868 rows × 6 columns</p>\n",
       "</div>"
      ],
      "text/plain": [
       "       Year                                     113 Cause Name  \\\n",
       "0      2017  Accidents (unintentional injuries) (V01-X59,Y8...   \n",
       "1      2017  Accidents (unintentional injuries) (V01-X59,Y8...   \n",
       "2      2017  Accidents (unintentional injuries) (V01-X59,Y8...   \n",
       "3      2017  Accidents (unintentional injuries) (V01-X59,Y8...   \n",
       "4      2017  Accidents (unintentional injuries) (V01-X59,Y8...   \n",
       "...     ...                                                ...   \n",
       "10863  1999  Nephritis, nephrotic syndrome and nephrosis (N...   \n",
       "10864  1999  Nephritis, nephrotic syndrome and nephrosis (N...   \n",
       "10865  1999  Nephritis, nephrotic syndrome and nephrosis (N...   \n",
       "10866  1999  Nephritis, nephrotic syndrome and nephrosis (N...   \n",
       "10867  1999  Nephritis, nephrotic syndrome and nephrosis (N...   \n",
       "\n",
       "                   Cause Name          State  Deaths  Age-adjusted Death Rate  \n",
       "0      Unintentional injuries  United States  169936                     49.4  \n",
       "1      Unintentional injuries        Alabama    2703                     53.8  \n",
       "2      Unintentional injuries         Alaska     436                     63.7  \n",
       "3      Unintentional injuries        Arizona    4184                     56.2  \n",
       "4      Unintentional injuries       Arkansas    1625                     51.8  \n",
       "...                       ...            ...     ...                      ...  \n",
       "10863          Kidney disease       Virginia    1035                     16.9  \n",
       "10864          Kidney disease     Washington     278                      5.2  \n",
       "10865          Kidney disease  West Virginia     345                     16.4  \n",
       "10866          Kidney disease      Wisconsin     677                     11.9  \n",
       "10867          Kidney disease        Wyoming      30                      6.8  \n",
       "\n",
       "[10868 rows x 6 columns]"
      ]
     },
     "execution_count": 50,
     "metadata": {},
     "output_type": "execute_result"
    }
   ],
   "source": [
    "data = pd.read_csv('causes-of-death.csv')\n",
    "data"
   ]
  },
  {
   "cell_type": "code",
   "execution_count": 4,
   "metadata": {},
   "outputs": [
    {
     "name": "stdout",
     "output_type": "stream",
     "text": [
      "<class 'pandas.core.frame.DataFrame'>\n",
      "RangeIndex: 10868 entries, 0 to 10867\n",
      "Data columns (total 6 columns):\n",
      " #   Column                   Non-Null Count  Dtype  \n",
      "---  ------                   --------------  -----  \n",
      " 0   Year                     10868 non-null  int64  \n",
      " 1   113 Cause Name           10868 non-null  object \n",
      " 2   Cause Name               10868 non-null  object \n",
      " 3   State                    10868 non-null  object \n",
      " 4   Deaths                   10868 non-null  int64  \n",
      " 5   Age-adjusted Death Rate  10868 non-null  float64\n",
      "dtypes: float64(1), int64(2), object(3)\n",
      "memory usage: 509.6+ KB\n"
     ]
    }
   ],
   "source": [
    "data.info()"
   ]
  },
  {
   "attachments": {},
   "cell_type": "markdown",
   "metadata": {},
   "source": [
    "Data is complete and it seems there are no missing data values in the dataframe. We will check the uniqueness of these columns and change them to a category datatype if needed"
   ]
  },
  {
   "cell_type": "code",
   "execution_count": 5,
   "metadata": {},
   "outputs": [
    {
     "data": {
      "text/plain": [
       "Year                         19\n",
       "113 Cause Name               11\n",
       "Cause Name                   11\n",
       "State                        52\n",
       "Deaths                     5964\n",
       "Age-adjusted Death Rate    2490\n",
       "dtype: int64"
      ]
     },
     "execution_count": 5,
     "metadata": {},
     "output_type": "execute_result"
    }
   ],
   "source": [
    "data.nunique()"
   ]
  },
  {
   "attachments": {},
   "cell_type": "markdown",
   "metadata": {},
   "source": [
    "comparitively to the number of instances in the dataset it looks like we can categorize every object column"
   ]
  },
  {
   "cell_type": "code",
   "execution_count": 6,
   "metadata": {},
   "outputs": [
    {
     "name": "stdout",
     "output_type": "stream",
     "text": [
      "<class 'pandas.core.frame.DataFrame'>\n",
      "RangeIndex: 10868 entries, 0 to 10867\n",
      "Data columns (total 6 columns):\n",
      " #   Column                   Non-Null Count  Dtype   \n",
      "---  ------                   --------------  -----   \n",
      " 0   Year                     10868 non-null  int64   \n",
      " 1   113 Cause Name           10868 non-null  category\n",
      " 2   Cause Name               10868 non-null  category\n",
      " 3   State                    10868 non-null  category\n",
      " 4   Deaths                   10868 non-null  int64   \n",
      " 5   Age-adjusted Death Rate  10868 non-null  float64 \n",
      "dtypes: category(3), float64(1), int64(2)\n",
      "memory usage: 289.9 KB\n"
     ]
    }
   ],
   "source": [
    "for col in ['113 Cause Name', 'Cause Name', 'State']:\n",
    "    data[col] = data[col].astype('category')\n",
    "data.info()"
   ]
  },
  {
   "cell_type": "code",
   "execution_count": 7,
   "metadata": {},
   "outputs": [
    {
     "data": {
      "text/html": [
       "<div>\n",
       "<style scoped>\n",
       "    .dataframe tbody tr th:only-of-type {\n",
       "        vertical-align: middle;\n",
       "    }\n",
       "\n",
       "    .dataframe tbody tr th {\n",
       "        vertical-align: top;\n",
       "    }\n",
       "\n",
       "    .dataframe thead th {\n",
       "        text-align: right;\n",
       "    }\n",
       "</style>\n",
       "<table border=\"1\" class=\"dataframe\">\n",
       "  <thead>\n",
       "    <tr style=\"text-align: right;\">\n",
       "      <th></th>\n",
       "      <th>Year</th>\n",
       "      <th>Deaths</th>\n",
       "      <th>Age-adjusted Death Rate</th>\n",
       "    </tr>\n",
       "  </thead>\n",
       "  <tbody>\n",
       "    <tr>\n",
       "      <th>count</th>\n",
       "      <td>10868.000000</td>\n",
       "      <td>1.086800e+04</td>\n",
       "      <td>10868.000000</td>\n",
       "    </tr>\n",
       "    <tr>\n",
       "      <th>mean</th>\n",
       "      <td>2008.000000</td>\n",
       "      <td>1.545991e+04</td>\n",
       "      <td>127.563894</td>\n",
       "    </tr>\n",
       "    <tr>\n",
       "      <th>std</th>\n",
       "      <td>5.477478</td>\n",
       "      <td>1.128760e+05</td>\n",
       "      <td>223.639771</td>\n",
       "    </tr>\n",
       "    <tr>\n",
       "      <th>min</th>\n",
       "      <td>1999.000000</td>\n",
       "      <td>2.100000e+01</td>\n",
       "      <td>2.600000</td>\n",
       "    </tr>\n",
       "    <tr>\n",
       "      <th>25%</th>\n",
       "      <td>2003.000000</td>\n",
       "      <td>6.120000e+02</td>\n",
       "      <td>19.200000</td>\n",
       "    </tr>\n",
       "    <tr>\n",
       "      <th>50%</th>\n",
       "      <td>2008.000000</td>\n",
       "      <td>1.718500e+03</td>\n",
       "      <td>35.900000</td>\n",
       "    </tr>\n",
       "    <tr>\n",
       "      <th>75%</th>\n",
       "      <td>2013.000000</td>\n",
       "      <td>5.756500e+03</td>\n",
       "      <td>151.725000</td>\n",
       "    </tr>\n",
       "    <tr>\n",
       "      <th>max</th>\n",
       "      <td>2017.000000</td>\n",
       "      <td>2.813503e+06</td>\n",
       "      <td>1087.300000</td>\n",
       "    </tr>\n",
       "  </tbody>\n",
       "</table>\n",
       "</div>"
      ],
      "text/plain": [
       "               Year        Deaths  Age-adjusted Death Rate\n",
       "count  10868.000000  1.086800e+04             10868.000000\n",
       "mean    2008.000000  1.545991e+04               127.563894\n",
       "std        5.477478  1.128760e+05               223.639771\n",
       "min     1999.000000  2.100000e+01                 2.600000\n",
       "25%     2003.000000  6.120000e+02                19.200000\n",
       "50%     2008.000000  1.718500e+03                35.900000\n",
       "75%     2013.000000  5.756500e+03               151.725000\n",
       "max     2017.000000  2.813503e+06              1087.300000"
      ]
     },
     "execution_count": 7,
     "metadata": {},
     "output_type": "execute_result"
    }
   ],
   "source": [
    "data.describe()"
   ]
  },
  {
   "attachments": {},
   "cell_type": "markdown",
   "metadata": {},
   "source": [
    "looking at the description we have some death values the far exceed the IQR, with over 1000 times more deaths. If we look at the data though from the csv we will see that a section for overall deaths, with all causes for the nation is summarized. for example we look at the stats with state being labeled as united states we will see the values far exceed the IQR."
   ]
  },
  {
   "cell_type": "code",
   "execution_count": 8,
   "metadata": {},
   "outputs": [
    {
     "data": {
      "text/html": [
       "<div>\n",
       "<style scoped>\n",
       "    .dataframe tbody tr th:only-of-type {\n",
       "        vertical-align: middle;\n",
       "    }\n",
       "\n",
       "    .dataframe tbody tr th {\n",
       "        vertical-align: top;\n",
       "    }\n",
       "\n",
       "    .dataframe thead th {\n",
       "        text-align: right;\n",
       "    }\n",
       "</style>\n",
       "<table border=\"1\" class=\"dataframe\">\n",
       "  <thead>\n",
       "    <tr style=\"text-align: right;\">\n",
       "      <th></th>\n",
       "      <th>Year</th>\n",
       "      <th>113 Cause Name</th>\n",
       "      <th>Cause Name</th>\n",
       "      <th>State</th>\n",
       "      <th>Deaths</th>\n",
       "      <th>Age-adjusted Death Rate</th>\n",
       "    </tr>\n",
       "  </thead>\n",
       "  <tbody>\n",
       "    <tr>\n",
       "      <th>0</th>\n",
       "      <td>2017</td>\n",
       "      <td>Accidents (unintentional injuries) (V01-X59,Y8...</td>\n",
       "      <td>Unintentional injuries</td>\n",
       "      <td>United States</td>\n",
       "      <td>169936</td>\n",
       "      <td>49.4</td>\n",
       "    </tr>\n",
       "    <tr>\n",
       "      <th>52</th>\n",
       "      <td>2017</td>\n",
       "      <td>All Causes</td>\n",
       "      <td>All causes</td>\n",
       "      <td>United States</td>\n",
       "      <td>2813503</td>\n",
       "      <td>731.9</td>\n",
       "    </tr>\n",
       "    <tr>\n",
       "      <th>104</th>\n",
       "      <td>2017</td>\n",
       "      <td>Alzheimer's disease (G30)</td>\n",
       "      <td>Alzheimer's disease</td>\n",
       "      <td>United States</td>\n",
       "      <td>121404</td>\n",
       "      <td>31.0</td>\n",
       "    </tr>\n",
       "    <tr>\n",
       "      <th>156</th>\n",
       "      <td>2017</td>\n",
       "      <td>Cerebrovascular diseases (I60-I69)</td>\n",
       "      <td>Stroke</td>\n",
       "      <td>United States</td>\n",
       "      <td>146383</td>\n",
       "      <td>37.6</td>\n",
       "    </tr>\n",
       "    <tr>\n",
       "      <th>208</th>\n",
       "      <td>2017</td>\n",
       "      <td>Chronic lower respiratory diseases (J40-J47)</td>\n",
       "      <td>CLRD</td>\n",
       "      <td>United States</td>\n",
       "      <td>160201</td>\n",
       "      <td>40.9</td>\n",
       "    </tr>\n",
       "    <tr>\n",
       "      <th>...</th>\n",
       "      <td>...</td>\n",
       "      <td>...</td>\n",
       "      <td>...</td>\n",
       "      <td>...</td>\n",
       "      <td>...</td>\n",
       "      <td>...</td>\n",
       "    </tr>\n",
       "    <tr>\n",
       "      <th>10652</th>\n",
       "      <td>1999</td>\n",
       "      <td>Diseases of heart (I00-I09,I11,I13,I20-I51)</td>\n",
       "      <td>Heart disease</td>\n",
       "      <td>United States</td>\n",
       "      <td>725192</td>\n",
       "      <td>266.5</td>\n",
       "    </tr>\n",
       "    <tr>\n",
       "      <th>10705</th>\n",
       "      <td>1999</td>\n",
       "      <td>Influenza and pneumonia (J09-J18)</td>\n",
       "      <td>Influenza and pneumonia</td>\n",
       "      <td>United States</td>\n",
       "      <td>63730</td>\n",
       "      <td>23.5</td>\n",
       "    </tr>\n",
       "    <tr>\n",
       "      <th>10757</th>\n",
       "      <td>1999</td>\n",
       "      <td>Intentional self-harm (suicide) (*U03,X60-X84,...</td>\n",
       "      <td>Suicide</td>\n",
       "      <td>United States</td>\n",
       "      <td>29199</td>\n",
       "      <td>10.5</td>\n",
       "    </tr>\n",
       "    <tr>\n",
       "      <th>10808</th>\n",
       "      <td>1999</td>\n",
       "      <td>Malignant neoplasms (C00-C97)</td>\n",
       "      <td>Cancer</td>\n",
       "      <td>United States</td>\n",
       "      <td>549838</td>\n",
       "      <td>200.8</td>\n",
       "    </tr>\n",
       "    <tr>\n",
       "      <th>10860</th>\n",
       "      <td>1999</td>\n",
       "      <td>Nephritis, nephrotic syndrome and nephrosis (N...</td>\n",
       "      <td>Kidney disease</td>\n",
       "      <td>United States</td>\n",
       "      <td>35525</td>\n",
       "      <td>13.0</td>\n",
       "    </tr>\n",
       "  </tbody>\n",
       "</table>\n",
       "<p>209 rows × 6 columns</p>\n",
       "</div>"
      ],
      "text/plain": [
       "       Year                                     113 Cause Name  \\\n",
       "0      2017  Accidents (unintentional injuries) (V01-X59,Y8...   \n",
       "52     2017                                         All Causes   \n",
       "104    2017                          Alzheimer's disease (G30)   \n",
       "156    2017                 Cerebrovascular diseases (I60-I69)   \n",
       "208    2017       Chronic lower respiratory diseases (J40-J47)   \n",
       "...     ...                                                ...   \n",
       "10652  1999        Diseases of heart (I00-I09,I11,I13,I20-I51)   \n",
       "10705  1999                  Influenza and pneumonia (J09-J18)   \n",
       "10757  1999  Intentional self-harm (suicide) (*U03,X60-X84,...   \n",
       "10808  1999                      Malignant neoplasms (C00-C97)   \n",
       "10860  1999  Nephritis, nephrotic syndrome and nephrosis (N...   \n",
       "\n",
       "                    Cause Name          State   Deaths  \\\n",
       "0       Unintentional injuries  United States   169936   \n",
       "52                  All causes  United States  2813503   \n",
       "104        Alzheimer's disease  United States   121404   \n",
       "156                     Stroke  United States   146383   \n",
       "208                       CLRD  United States   160201   \n",
       "...                        ...            ...      ...   \n",
       "10652            Heart disease  United States   725192   \n",
       "10705  Influenza and pneumonia  United States    63730   \n",
       "10757                  Suicide  United States    29199   \n",
       "10808                   Cancer  United States   549838   \n",
       "10860           Kidney disease  United States    35525   \n",
       "\n",
       "       Age-adjusted Death Rate  \n",
       "0                         49.4  \n",
       "52                       731.9  \n",
       "104                       31.0  \n",
       "156                       37.6  \n",
       "208                       40.9  \n",
       "...                        ...  \n",
       "10652                    266.5  \n",
       "10705                     23.5  \n",
       "10757                     10.5  \n",
       "10808                    200.8  \n",
       "10860                     13.0  \n",
       "\n",
       "[209 rows x 6 columns]"
      ]
     },
     "execution_count": 8,
     "metadata": {},
     "output_type": "execute_result"
    }
   ],
   "source": [
    "data_us = data[data['State'] == 'United States']\n",
    "data_us"
   ]
  },
  {
   "attachments": {},
   "cell_type": "markdown",
   "metadata": {},
   "source": [
    "we can use this data to view the overall cause of death in the nation"
   ]
  },
  {
   "cell_type": "code",
   "execution_count": 9,
   "metadata": {},
   "outputs": [
    {
     "data": {
      "image/png": "[encoded data removed]",
      "text/plain": [
       "<Figure size 1200x500 with 1 Axes>"
      ]
     },
     "metadata": {},
     "output_type": "display_data"
    }
   ],
   "source": [
    "plt.figure(figsize=(12,5))\n",
    "causes_us = data_us.groupby('Cause Name')['Deaths'].sum().sort_values(ascending=True).reset_index(name='count')\n",
    "plt.barh(causes_us['Cause Name'][:-1], causes_us['count'][:-1])\n",
    "plt.grid(True)\n",
    "plt.xlabel('Deaths (in millions)')\n",
    "plt.title(\"Leading cause of death in the US\")\n",
    "save_fig('Overall cause of death in the US')\n",
    "plt.show()"
   ]
  },
  {
   "attachments": {},
   "cell_type": "markdown",
   "metadata": {},
   "source": [
    "So we see that heart disease is the leading cause of death in America right before that is cancer. since these values will ruin the overall distribution of causes relative to state we will remove any row with state being labeled `United States`. We also have summation rows for each state labeled `All Causes` in the 113 Cause name we will also have to drop that too as that will affect our distribution of deaths as they are being counted twice."
   ]
  },
  {
   "cell_type": "code",
   "execution_count": 10,
   "metadata": {},
   "outputs": [],
   "source": [
    "data = data.drop(data_us.index, axis=0)\n",
    "all_causes = data[data['113 Cause Name'] == 'All Causes']\n",
    "data = data.drop(all_causes.index, axis=0)"
   ]
  },
  {
   "cell_type": "code",
   "execution_count": 11,
   "metadata": {},
   "outputs": [
    {
     "data": {
      "image/png": "[encoded data removed]",
      "text/plain": [
       "<Figure size 800x600 with 1 Axes>"
      ]
     },
     "metadata": {},
     "output_type": "display_data"
    }
   ],
   "source": [
    "plt.figure(figsize=(8,6))\n",
    "state_deaths = data.groupby('State')['Deaths'].sum().sort_values(ascending=False).reset_index(name='count')\n",
    "plt.barh(state_deaths['State'][:10], state_deaths['count'][:10], label='Top ten')\n",
    "plt.barh(state_deaths['State'][-11:-1], state_deaths['count'][-11:-1], label='Bottom ten')\n",
    "plt.legend()\n",
    "plt.grid(True)\n",
    "plt.xlabel('number of deaths (in millions)')\n",
    "plt.title(\"Top/Bottom 10 states death counts\")\n",
    "save_fig('Top and Bottom 10 state death count')\n",
    "plt.show()"
   ]
  },
  {
   "attachments": {},
   "cell_type": "markdown",
   "metadata": {},
   "source": [
    "So as expected the denser places in america experience the highest death rates, California experiencing the most amount of deaths. while states with small populations like Alaska experience the least amount of deaths."
   ]
  },
  {
   "cell_type": "code",
   "execution_count": 12,
   "metadata": {},
   "outputs": [
    {
     "data": {
      "image/png": "[encoded data removed]",
      "text/plain": [
       "<Figure size 640x480 with 1 Axes>"
      ]
     },
     "metadata": {},
     "output_type": "display_data"
    }
   ],
   "source": [
    "Yearly_deaths = data.groupby('Year')['Deaths'].sum().reset_index(name='count')\n",
    "plt.barh(Yearly_deaths['Year'], Yearly_deaths['count'])\n",
    "plt.title('Deaths by year')\n",
    "plt.yticks(Yearly_deaths['Year'])\n",
    "plt.xlabel('Deaths (in millions)')\n",
    "plt.grid()\n",
    "save_fig('Deaths per year')\n",
    "plt.show()"
   ]
  },
  {
   "attachments": {},
   "cell_type": "markdown",
   "metadata": {},
   "source": [
    "it looks like death rates have been steadily increasing time goes forward with a couple years where deaths were down comparitivly to the year prior"
   ]
  },
  {
   "cell_type": "code",
   "execution_count": 13,
   "metadata": {},
   "outputs": [
    {
     "data": {
      "image/png": "[encoded data removed]",
      "text/plain": [
       "<Figure size 640x480 with 2 Axes>"
      ]
     },
     "metadata": {},
     "output_type": "display_data"
    }
   ],
   "source": [
    "sns.heatmap(data.corr())\n",
    "save_fig('correlation heat map')\n",
    "plt.show()"
   ]
  },
  {
   "attachments": {},
   "cell_type": "markdown",
   "metadata": {},
   "source": [
    "So just looking at the heat map it looks like the the Year does not really affect whether or not Death/Death rate goes up"
   ]
  },
  {
   "attachments": {},
   "cell_type": "markdown",
   "metadata": {},
   "source": [
    "For our initial EDA it looks as though that we have a general understanding of the data. We see that year does not really affect death rates nor individual states cause of deaths. We also see that some states outweight the number of deaths in comparison. Sometimes these states like california experience 10X more deaths than California. We also found what the leading cause of death appears to be heart disease followed by cancer for the most part. \n",
    "\n",
    "We will then predict the death rate based on number of death, causes, and state."
   ]
  },
  {
   "cell_type": "code",
   "execution_count": 14,
   "metadata": {},
   "outputs": [],
   "source": [
    "target = data['Cause Name']\n",
    "X_data = data.drop(columns='Cause Name')\n"
   ]
  },
  {
   "cell_type": "code",
   "execution_count": 15,
   "metadata": {},
   "outputs": [
    {
     "data": {
      "text/plain": [
       "Index(['Year', '113 Cause Name', 'State', 'Deaths', 'Age-adjusted Death Rate'], dtype='object')"
      ]
     },
     "execution_count": 15,
     "metadata": {},
     "output_type": "execute_result"
    }
   ],
   "source": [
    "from sklearn.model_selection import StratifiedShuffleSplit\n",
    "strat_shuffle_split = StratifiedShuffleSplit(n_splits=1, test_size=0.2, random_state=42)\n",
    "train_indx, test_indx = next(strat_shuffle_split.split(X_data, target))\n",
    "X_train, X_test = X_data.iloc[train_indx], X_data.iloc[test_indx]\n",
    "y_train, y_test = target.iloc[train_indx], target.iloc[test_indx]\n",
    "X_train.columns"
   ]
  },
  {
   "cell_type": "code",
   "execution_count": 16,
   "metadata": {},
   "outputs": [],
   "source": [
    "from sklearn.preprocessing import StandardScaler\n",
    "from sklearn.preprocessing import OneHotEncoder\n",
    "from sklearn.compose import ColumnTransformer\n",
    "\n",
    "numeric_features = ['Deaths', 'Age-adjusted Death Rate']\n",
    "cat_features = ['113 Cause Name', 'State']\n",
    "\n",
    "ct = ColumnTransformer(\n",
    "    [('cat_transform', OneHotEncoder(sparse=False), cat_features),\n",
    "     ('num_transform', StandardScaler(), numeric_features)]\n",
    ")\n",
    "\n",
    "X_train_preprocessed = ct.fit_transform(X_train)\n",
    "X_test_preprocessed = ct.transform(X_test)"
   ]
  },
  {
   "cell_type": "code",
   "execution_count": 21,
   "metadata": {},
   "outputs": [
    {
     "data": {
      "text/plain": [
       "1.0"
      ]
     },
     "execution_count": 21,
     "metadata": {},
     "output_type": "execute_result"
    }
   ],
   "source": [
    "from sklearn.linear_model import LogisticRegression\n",
    "log_reg = LogisticRegression(C=0.1)\n",
    "log_reg.fit(X_train_preprocessed, y_train)      \n",
    "log_reg.score(X_test_preprocessed, y_test)"
   ]
  },
  {
   "attachments": {},
   "cell_type": "markdown",
   "metadata": {},
   "source": [
    "This is probably very accurate because every `113 Cause Name` is directly related to every `Cause Name` we will try to see if we can classify without knowing `113 Cause Name` and see if we can make any connections with just death and state"
   ]
  },
  {
   "cell_type": "code",
   "execution_count": 23,
   "metadata": {},
   "outputs": [],
   "source": [
    "X_train_no_name = X_train.drop(columns=['113 Cause Name'])\n",
    "X_test_no_name = X_test.drop(columns=['113 Cause Name'])"
   ]
  },
  {
   "cell_type": "code",
   "execution_count": 28,
   "metadata": {},
   "outputs": [
    {
     "data": {
      "text/plain": [
       "0.3080495356037152"
      ]
     },
     "execution_count": 28,
     "metadata": {},
     "output_type": "execute_result"
    }
   ],
   "source": [
    "cat_features = ['State']\n",
    "ct = ColumnTransformer(\n",
    "    [('cat_transform', OneHotEncoder(sparse=False), cat_features),\n",
    "     ('num_transform', StandardScaler(), numeric_features)]\n",
    ")\n",
    "X_train_preprocessed = ct.fit_transform(X_train_no_name)\n",
    "X_test_preprocessed = ct.transform(X_test_no_name)\n",
    "log_reg.fit(X_train_preprocessed, y_train)\n",
    "log_reg.score(X_test_preprocessed, y_test)"
   ]
  },
  {
   "cell_type": "code",
   "execution_count": 32,
   "metadata": {},
   "outputs": [
    {
     "name": "stdout",
     "output_type": "stream",
     "text": [
      "0.5392156862745098\n"
     ]
    },
    {
     "data": {
      "text/plain": [
       "0.3142414860681115"
      ]
     },
     "execution_count": 32,
     "metadata": {},
     "output_type": "execute_result"
    }
   ],
   "source": [
    "from sklearn.ensemble import RandomForestClassifier\n",
    "from sklearn.ensemble import AdaBoostClassifier\n",
    "tree_clf = RandomForestClassifier(n_estimators=200, max_depth=10, min_samples_leaf=10, random_state=42)\n",
    "tree_clf.fit(X_train_preprocessed, y_train)\n",
    "print(tree_clf.score(X_test_preprocessed, y_test))\n",
    "\n",
    "ada_boost = AdaBoostClassifier(n_estimators=100, random_state=42)\n",
    "ada_boost.fit(X_train_preprocessed, y_train)\n",
    "ada_boost.score(X_test_preprocessed, y_test)"
   ]
  },
  {
   "cell_type": "code",
   "execution_count": 33,
   "metadata": {},
   "outputs": [
    {
     "data": {
      "text/plain": [
       "0.6393188854489165"
      ]
     },
     "execution_count": 33,
     "metadata": {},
     "output_type": "execute_result"
    }
   ],
   "source": [
    "from sklearn.ensemble import GradientBoostingClassifier\n",
    "\n",
    "gb_clf = GradientBoostingClassifier(n_estimators=1_000, min_samples_leaf=20, max_depth=10)\n",
    "gb_clf.fit(X_train_preprocessed, y_train)\n",
    "gb_clf.score(X_test_preprocessed, y_test)"
   ]
  },
  {
   "cell_type": "code",
   "execution_count": 34,
   "metadata": {},
   "outputs": [
    {
     "data": {
      "text/plain": [
       "0.31217750257997934"
      ]
     },
     "execution_count": 34,
     "metadata": {},
     "output_type": "execute_result"
    }
   ],
   "source": [
    "from sklearn.ensemble import BaggingClassifier\n",
    "bag_clf = BaggingClassifier(GradientBoostingClassifier(n_estimators=1_000, min_samples_leaf=20, max_depth=10), n_estimators=100, max_samples=50, n_jobs=-1, random_state=42)\n",
    "bag_clf.fit(X_train_preprocessed, y_train)\n",
    "bag_clf.score(X_test_preprocessed, y_test)"
   ]
  },
  {
   "cell_type": "code",
   "execution_count": 37,
   "metadata": {},
   "outputs": [
    {
     "data": {
      "text/plain": [
       "0.5144478844169247"
      ]
     },
     "execution_count": 37,
     "metadata": {},
     "output_type": "execute_result"
    }
   ],
   "source": [
    "from xgboost import XGBRFClassifier\n",
    "from sklearn.preprocessing import LabelEncoder\n",
    "xgbr_clf = XGBRFClassifier()\n",
    "label_encoder = LabelEncoder()\n",
    "y_train_label = label_encoder.fit_transform(y_train)\n",
    "y_test_label = label_encoder.transform(y_test)\n",
    "xgbr_clf.fit(X_train_preprocessed, y_train_label)\n",
    "xgbr_clf.score(X_test_preprocessed, y_test_label)"
   ]
  },
  {
   "attachments": {},
   "cell_type": "markdown",
   "metadata": {},
   "source": [
    "It looks like Gradienboosting is our best model so far so we will try to hyper-tune that model"
   ]
  },
  {
   "cell_type": "code",
   "execution_count": 42,
   "metadata": {},
   "outputs": [
    {
     "name": "stderr",
     "output_type": "stream",
     "text": [
      "c:\\Users\\travi\\anaconda3\\lib\\site-packages\\sklearn\\model_selection\\_validation.py:372: FitFailedWarning: \n",
      "70 fits failed out of a total of 500.\n",
      "The score on these train-test partitions for these parameters will be set to nan.\n",
      "If these failures are not expected, you can try to debug them by setting error_score='raise'.\n",
      "\n",
      "Below are more details about the failures:\n",
      "--------------------------------------------------------------------------------\n",
      "70 fits failed with the following error:\n",
      "Traceback (most recent call last):\n",
      "  File \"c:\\Users\\travi\\anaconda3\\lib\\site-packages\\sklearn\\model_selection\\_validation.py\", line 680, in _fit_and_score\n",
      "    estimator.fit(X_train, y_train, **fit_params)\n",
      "  File \"c:\\Users\\travi\\anaconda3\\lib\\site-packages\\sklearn\\ensemble\\_gb.py\", line 525, in fit\n",
      "    self._check_params()\n",
      "  File \"c:\\Users\\travi\\anaconda3\\lib\\site-packages\\sklearn\\ensemble\\_gb.py\", line 269, in _check_params\n",
      "    raise ValueError(\n",
      "ValueError: n_estimators must be greater than 0 but was 0\n",
      "\n",
      "  warnings.warn(some_fits_failed_message, FitFailedWarning)\n",
      "c:\\Users\\travi\\anaconda3\\lib\\site-packages\\sklearn\\model_selection\\_search.py:969: UserWarning: One or more of the test scores are non-finite: [       nan 0.58513983 0.60849092 0.62293854 0.43229301 0.53676762\n",
      " 0.61068364 0.60423269        nan 0.52490539        nan 0.61016701\n",
      " 0.62667798 0.60745858 0.44428261 0.38028385 0.46311641 0.36701358\n",
      " 0.62035889 0.59133778 0.62551844 0.32896679 0.38529781        nan\n",
      " 0.603459   0.40700892 0.606813          nan        nan 0.3182398\n",
      " 0.34008843 0.59442857 0.61674732 0.616101   0.62061538 0.41937048\n",
      "        nan        nan 0.46848917 0.62629197 0.61249017 0.63016102\n",
      " 0.48520596 0.60320052 0.61416668 0.61700381 0.60603806 0.61687519\n",
      " 0.61906857        nan 0.60784593 0.60939307 0.61287569 0.62719478\n",
      " 0.30701899 0.35461683 0.60900655 0.60745808 0.61003756 0.29148362\n",
      " 0.61042566        nan 0.60487893 0.60513492 0.60720052 0.60913367\n",
      " 0.60203997        nan        nan 0.60474857 0.61390911 0.58953216\n",
      " 0.60823194 0.62938841 0.4236624  0.43496899 0.44917186 0.61403623\n",
      " 0.20446114 0.43459604 0.61635914 0.60939173 0.18821231 0.61700472\n",
      " 0.58733537 0.6019087  0.2595471  0.39589501 0.61661771 0.60397404\n",
      "        nan 0.6046197  0.6090058  0.60604014 0.61184501 0.62513259\n",
      " 0.61197321        nan 0.54233905 0.60578166]\n",
      "  warnings.warn(\n"
     ]
    },
    {
     "data": {
      "text/plain": [
       "0.653766769865841"
      ]
     },
     "execution_count": 42,
     "metadata": {},
     "output_type": "execute_result"
    }
   ],
   "source": [
    "from sklearn.model_selection import RandomizedSearchCV\n",
    "\n",
    "params = {\n",
    "    'learning_rate': np.random.uniform(0.0001, 1, 200),\n",
    "    'n_estimators': range(0,1000, 100),\n",
    "    'min_samples_leaf': range(10, 30, 5),\n",
    "    'max_depth': range(3,10)\n",
    "}\n",
    "grb_clf = GradientBoostingClassifier()\n",
    "clf = RandomizedSearchCV(grb_clf, param_distributions=params, n_jobs=-1,n_iter=100)\n",
    "clf.fit(X_train_preprocessed, y_train)\n",
    "clf.score(X_test_preprocessed, y_test)"
   ]
  },
  {
   "cell_type": "code",
   "execution_count": 43,
   "metadata": {},
   "outputs": [
    {
     "data": {
      "text/plain": [
       "GradientBoostingClassifier(learning_rate=0.5340716762288081, max_depth=5,\n",
       "                           min_samples_leaf=10, n_estimators=900)"
      ]
     },
     "execution_count": 43,
     "metadata": {},
     "output_type": "execute_result"
    }
   ],
   "source": [
    "best_model = clf.best_estimator_\n",
    "best_model"
   ]
  },
  {
   "cell_type": "code",
   "execution_count": 49,
   "metadata": {},
   "outputs": [
    {
     "name": "stdout",
     "output_type": "stream",
     "text": [
      "0.653766769865841\n"
     ]
    },
    {
     "data": {
      "text/plain": [
       "array([0.00275561, 0.00296523, 0.00298751, 0.00256031, 0.00150983,\n",
       "       0.00360284, 0.00577672, 0.002895  , 0.00349409, 0.00312804,\n",
       "       0.00194817, 0.00508002, 0.00116627, 0.00193773, 0.0016195 ,\n",
       "       0.00194639, 0.00140962, 0.00298054, 0.00239177, 0.002383  ,\n",
       "       0.00585454, 0.00434366, 0.00168254, 0.0032361 , 0.00257571,\n",
       "       0.00115093, 0.0018233 , 0.00298203, 0.00530449, 0.00171011,\n",
       "       0.00271527, 0.00331273, 0.00673706, 0.00129919, 0.00218216,\n",
       "       0.00120564, 0.0039431 , 0.00196577, 0.00221669, 0.00271274,\n",
       "       0.00225121, 0.00151229, 0.00302433, 0.00168025, 0.0044324 ,\n",
       "       0.00229783, 0.00107087, 0.00377163, 0.00410561, 0.00167481,\n",
       "       0.00228259, 0.24219949, 0.61620474])"
      ]
     },
     "execution_count": 49,
     "metadata": {},
     "output_type": "execute_result"
    }
   ],
   "source": [
    "print(best_model.score(X_test_preprocessed, y_test))\n",
    "best_model.feature_importances_"
   ]
  },
  {
   "attachments": {},
   "cell_type": "markdown",
   "metadata": {},
   "source": [
    "Looks like the best we can do without Cause name is 65.38% accuracy and it seems like deaths and death-rates are the column of most significance when deciding the name of the cause. "
   ]
  }
 ],
 "metadata": {
  "kernelspec": {
   "display_name": "base",
   "language": "python",
   "name": "python3"
  },
  "language_info": {
   "codemirror_mode": {
    "name": "ipython",
    "version": 3
   },
   "file_extension": ".py",
   "mimetype": "text/x-python",
   "name": "python",
   "nbconvert_exporter": "python",
   "pygments_lexer": "ipython3",
   "version": "3.9.13"
  },
  "orig_nbformat": 4,
  "vscode": {
   "interpreter": {
    "hash": "25c91bf3ee6960af2d623cb05a46b6543b8f97706d1f190d3fccd50d7f58cc8d"
   }
  }
 },
 "nbformat": 4,
 "nbformat_minor": 2
}
