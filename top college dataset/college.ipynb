{
 "cells": [
  {
   "cell_type": "code",
   "execution_count": 2,
   "metadata": {},
   "outputs": [],
   "source": [
    "import numpy as np\n",
    "import pandas as pd\n",
    "import matplotlib.pyplot as plt\n",
    "import seaborn as sns"
   ]
  },
  {
   "cell_type": "code",
   "execution_count": 4,
   "metadata": {},
   "outputs": [],
   "source": [
    "from pathlib import Path\n",
    "\n",
    "IMAGES_PATH = Path() / \"images\" / \"College plots\"\n",
    "IMAGES_PATH.mkdir(parents=True, exist_ok=True)\n",
    "\n",
    "def save_fig(fig_id, tight_layout=True, fig_extension=\"png\", resolution=300):\n",
    "    path = IMAGES_PATH / f\"{fig_id}.{fig_extension}\"\n",
    "    if tight_layout:\n",
    "        plt.tight_layout()\n",
    "    plt.savefig(path, format=fig_extension, dpi=resolution)"
   ]
  },
  {
   "cell_type": "code",
   "execution_count": 6,
   "metadata": {},
   "outputs": [
    {
     "data": {
      "text/html": [
       "<div>\n",
       "<style scoped>\n",
       "    .dataframe tbody tr th:only-of-type {\n",
       "        vertical-align: middle;\n",
       "    }\n",
       "\n",
       "    .dataframe tbody tr th {\n",
       "        vertical-align: top;\n",
       "    }\n",
       "\n",
       "    .dataframe thead th {\n",
       "        text-align: right;\n",
       "    }\n",
       "</style>\n",
       "<table border=\"1\" class=\"dataframe\">\n",
       "  <thead>\n",
       "    <tr style=\"text-align: right;\">\n",
       "      <th></th>\n",
       "      <th>description</th>\n",
       "      <th>rank</th>\n",
       "      <th>organizationName</th>\n",
       "      <th>state</th>\n",
       "      <th>studentPopulation</th>\n",
       "      <th>campusSetting</th>\n",
       "      <th>medianBaseSalary</th>\n",
       "      <th>longitude</th>\n",
       "      <th>latitude</th>\n",
       "      <th>website</th>\n",
       "      <th>...</th>\n",
       "      <th>yearFounded</th>\n",
       "      <th>stateCode</th>\n",
       "      <th>collegeType</th>\n",
       "      <th>carnegieClassification</th>\n",
       "      <th>studentFacultyRatio</th>\n",
       "      <th>totalStudentPop</th>\n",
       "      <th>undergradPop</th>\n",
       "      <th>totalGrantAid</th>\n",
       "      <th>percentOfStudentsFinAid</th>\n",
       "      <th>percentOfStudentsGrant</th>\n",
       "    </tr>\n",
       "  </thead>\n",
       "  <tbody>\n",
       "    <tr>\n",
       "      <th>0</th>\n",
       "      <td>A leading global research university, MIT attr...</td>\n",
       "      <td>1</td>\n",
       "      <td>Massachusetts Institute of Technology</td>\n",
       "      <td>MA</td>\n",
       "      <td>12195</td>\n",
       "      <td>Urban</td>\n",
       "      <td>173700.0</td>\n",
       "      <td>-71.093539</td>\n",
       "      <td>42.359006</td>\n",
       "      <td>http://web.mit.edu</td>\n",
       "      <td>...</td>\n",
       "      <td>1861.0</td>\n",
       "      <td>MA</td>\n",
       "      <td>Private not-for-profit</td>\n",
       "      <td>Doctoral Universities: Very High Research Acti...</td>\n",
       "      <td>3</td>\n",
       "      <td>12195</td>\n",
       "      <td>4582</td>\n",
       "      <td>35299332.0</td>\n",
       "      <td>75.0</td>\n",
       "      <td>60.0</td>\n",
       "    </tr>\n",
       "    <tr>\n",
       "      <th>1</th>\n",
       "      <td>Stanford University sits just outside of Palo ...</td>\n",
       "      <td>2</td>\n",
       "      <td>Stanford University</td>\n",
       "      <td>CA</td>\n",
       "      <td>20961</td>\n",
       "      <td>Suburban</td>\n",
       "      <td>173500.0</td>\n",
       "      <td>-122.168924</td>\n",
       "      <td>37.431370</td>\n",
       "      <td>http://www.stanford.edu</td>\n",
       "      <td>...</td>\n",
       "      <td>1891.0</td>\n",
       "      <td>CA</td>\n",
       "      <td>Private not-for-profit</td>\n",
       "      <td>Doctoral Universities: Very High Research Acti...</td>\n",
       "      <td>4</td>\n",
       "      <td>20961</td>\n",
       "      <td>8464</td>\n",
       "      <td>51328461.0</td>\n",
       "      <td>70.0</td>\n",
       "      <td>55.0</td>\n",
       "    </tr>\n",
       "    <tr>\n",
       "      <th>2</th>\n",
       "      <td>One of the top public universities in the coun...</td>\n",
       "      <td>2</td>\n",
       "      <td>University of California, Berkeley</td>\n",
       "      <td>CA</td>\n",
       "      <td>45878</td>\n",
       "      <td>Urban</td>\n",
       "      <td>154500.0</td>\n",
       "      <td>-122.258393</td>\n",
       "      <td>37.869236</td>\n",
       "      <td>http://www.berkeley.edu</td>\n",
       "      <td>...</td>\n",
       "      <td>1868.0</td>\n",
       "      <td>CA</td>\n",
       "      <td>Public</td>\n",
       "      <td>Doctoral Universities: Very High Research Acti...</td>\n",
       "      <td>19</td>\n",
       "      <td>45878</td>\n",
       "      <td>33208</td>\n",
       "      <td>64495611.0</td>\n",
       "      <td>63.0</td>\n",
       "      <td>53.0</td>\n",
       "    </tr>\n",
       "  </tbody>\n",
       "</table>\n",
       "<p>3 rows × 25 columns</p>\n",
       "</div>"
      ],
      "text/plain": [
       "                                         description  rank  \\\n",
       "0  A leading global research university, MIT attr...     1   \n",
       "1  Stanford University sits just outside of Palo ...     2   \n",
       "2  One of the top public universities in the coun...     2   \n",
       "\n",
       "                        organizationName state  studentPopulation  \\\n",
       "0  Massachusetts Institute of Technology    MA              12195   \n",
       "1                    Stanford University    CA              20961   \n",
       "2     University of California, Berkeley    CA              45878   \n",
       "\n",
       "  campusSetting  medianBaseSalary   longitude   latitude  \\\n",
       "0         Urban          173700.0  -71.093539  42.359006   \n",
       "1      Suburban          173500.0 -122.168924  37.431370   \n",
       "2         Urban          154500.0 -122.258393  37.869236   \n",
       "\n",
       "                   website  ... yearFounded stateCode             collegeType  \\\n",
       "0       http://web.mit.edu  ...      1861.0        MA  Private not-for-profit   \n",
       "1  http://www.stanford.edu  ...      1891.0        CA  Private not-for-profit   \n",
       "2  http://www.berkeley.edu  ...      1868.0        CA                  Public   \n",
       "\n",
       "                              carnegieClassification studentFacultyRatio  \\\n",
       "0  Doctoral Universities: Very High Research Acti...                   3   \n",
       "1  Doctoral Universities: Very High Research Acti...                   4   \n",
       "2  Doctoral Universities: Very High Research Acti...                  19   \n",
       "\n",
       "   totalStudentPop undergradPop totalGrantAid percentOfStudentsFinAid  \\\n",
       "0            12195         4582    35299332.0                    75.0   \n",
       "1            20961         8464    51328461.0                    70.0   \n",
       "2            45878        33208    64495611.0                    63.0   \n",
       "\n",
       "   percentOfStudentsGrant  \n",
       "0                    60.0  \n",
       "1                    55.0  \n",
       "2                    53.0  \n",
       "\n",
       "[3 rows x 25 columns]"
      ]
     },
     "execution_count": 6,
     "metadata": {},
     "output_type": "execute_result"
    }
   ],
   "source": [
    "data = pd.read_csv('top_colleges_2022.csv')\n",
    "data.head(3)"
   ]
  },
  {
   "cell_type": "code",
   "execution_count": 10,
   "metadata": {},
   "outputs": [
    {
     "name": "stdout",
     "output_type": "stream",
     "text": [
      "<class 'pandas.core.frame.DataFrame'>\n",
      "RangeIndex: 498 entries, 0 to 497\n",
      "Data columns (total 25 columns):\n",
      " #   Column                   Non-Null Count  Dtype  \n",
      "---  ------                   --------------  -----  \n",
      " 0   description              498 non-null    object \n",
      " 1   rank                     498 non-null    int64  \n",
      " 2   organizationName         498 non-null    object \n",
      " 3   state                    498 non-null    object \n",
      " 4   studentPopulation        498 non-null    int64  \n",
      " 5   campusSetting            498 non-null    object \n",
      " 6   medianBaseSalary         491 non-null    float64\n",
      " 7   longitude                458 non-null    float64\n",
      " 8   latitude                 458 non-null    float64\n",
      " 9   website                  477 non-null    object \n",
      " 10  phoneNumber              428 non-null    object \n",
      " 11  city                     498 non-null    object \n",
      " 12  country                  498 non-null    object \n",
      " 13  state.1                  498 non-null    object \n",
      " 14  region                   489 non-null    object \n",
      " 15  yearFounded              451 non-null    float64\n",
      " 16  stateCode                489 non-null    object \n",
      " 17  collegeType              498 non-null    object \n",
      " 18  carnegieClassification   498 non-null    object \n",
      " 19  studentFacultyRatio      498 non-null    int64  \n",
      " 20  totalStudentPop          498 non-null    int64  \n",
      " 21  undergradPop             498 non-null    int64  \n",
      " 22  totalGrantAid            495 non-null    float64\n",
      " 23  percentOfStudentsFinAid  495 non-null    float64\n",
      " 24  percentOfStudentsGrant   495 non-null    float64\n",
      "dtypes: float64(7), int64(5), object(13)\n",
      "memory usage: 97.4+ KB\n"
     ]
    }
   ],
   "source": [
    "data.info()"
   ]
  },
  {
   "cell_type": "code",
   "execution_count": 11,
   "metadata": {},
   "outputs": [
    {
     "data": {
      "text/plain": [
       "description                498\n",
       "rank                       491\n",
       "organizationName           498\n",
       "state                       51\n",
       "studentPopulation          492\n",
       "campusSetting                3\n",
       "medianBaseSalary           324\n",
       "longitude                  455\n",
       "latitude                   455\n",
       "website                    477\n",
       "phoneNumber                428\n",
       "city                       374\n",
       "country                      1\n",
       "state.1                     51\n",
       "region                       4\n",
       "yearFounded                175\n",
       "stateCode                   51\n",
       "collegeType                  2\n",
       "carnegieClassification      12\n",
       "studentFacultyRatio         29\n",
       "totalStudentPop            492\n",
       "undergradPop               489\n",
       "totalGrantAid              495\n",
       "percentOfStudentsFinAid     56\n",
       "percentOfStudentsGrant      67\n",
       "dtype: int64"
      ]
     },
     "execution_count": 11,
     "metadata": {},
     "output_type": "execute_result"
    }
   ],
   "source": [
    "data.nunique()"
   ]
  },
  {
   "attachments": {},
   "cell_type": "markdown",
   "metadata": {},
   "source": [
    "looking off the bat we see that all colleges are in the US so there is no need for that column. We will drop is later on. it looks like that there is also only 2 types of college, 2 carnegieClassification, and 3 types of campus settings "
   ]
  },
  {
   "cell_type": "code",
   "execution_count": null,
   "metadata": {},
   "outputs": [],
   "source": [
    "type_and_setting "
   ]
  }
 ],
 "metadata": {
  "kernelspec": {
   "display_name": "base",
   "language": "python",
   "name": "python3"
  },
  "language_info": {
   "codemirror_mode": {
    "name": "ipython",
    "version": 3
   },
   "file_extension": ".py",
   "mimetype": "text/x-python",
   "name": "python",
   "nbconvert_exporter": "python",
   "pygments_lexer": "ipython3",
   "version": "3.9.13"
  },
  "orig_nbformat": 4,
  "vscode": {
   "interpreter": {
    "hash": "25c91bf3ee6960af2d623cb05a46b6543b8f97706d1f190d3fccd50d7f58cc8d"
   }
  }
 },
 "nbformat": 4,
 "nbformat_minor": 2
}
